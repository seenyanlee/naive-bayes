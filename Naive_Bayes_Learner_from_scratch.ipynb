{
  "nbformat": 4,
  "nbformat_minor": 0,
  "metadata": {
    "colab": {
      "name": "Naive Bayes Learner from scratch",
      "provenance": []
    },
    "kernelspec": {
      "name": "python3",
      "display_name": "Python 3"
    },
    "language_info": {
      "name": "python"
    }
  },
  "cells": [
    {
      "cell_type": "code",
      "source": [
        "from google.colab import files\n",
        "\n",
        "uploaded = files.upload()"
      ],
      "metadata": {
        "colab": {
          "resources": {
            "http://localhost:8080/nbextensions/google.colab/files.js": {
              "data": "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",
              "ok": true,
              "headers": [
                [
                  "content-type",
                  "application/javascript"
                ]
              ],
              "status": 200,
              "status_text": ""
            }
          },
          "base_uri": "https://localhost:8080/",
          "height": 75
        },
        "id": "4shFAfmthRw0",
        "outputId": "b4a2dbde-c8b3-4c1d-dbe4-b4e7cdbf679c"
      },
      "execution_count": 1,
      "outputs": [
        {
          "output_type": "display_data",
          "data": {
            "text/plain": [
              "<IPython.core.display.HTML object>"
            ],
            "text/html": [
              "\n",
              "     <input type=\"file\" id=\"files-228cb628-690a-4a4c-a9ce-7a86309a3309\" name=\"files[]\" multiple disabled\n",
              "        style=\"border:none\" />\n",
              "     <output id=\"result-228cb628-690a-4a4c-a9ce-7a86309a3309\">\n",
              "      Upload widget is only available when the cell has been executed in the\n",
              "      current browser session. Please rerun this cell to enable.\n",
              "      </output>\n",
              "      <script src=\"/nbextensions/google.colab/files.js\"></script> "
            ]
          },
          "metadata": {}
        },
        {
          "output_type": "stream",
          "name": "stdout",
          "text": [
            "Saving adult.csv to adult.csv\n"
          ]
        }
      ]
    },
    {
      "cell_type": "code",
      "execution_count": 2,
      "metadata": {
        "id": "C3EJLMJTfH4T"
      },
      "outputs": [],
      "source": [
        "import numpy as np\n",
        "from collections import defaultdict\n",
        "import re\n",
        "from math import sqrt, exp, pi, log"
      ]
    },
    {
      "cell_type": "code",
      "source": [
        "# This function should prepare the data by reading it from a file and converting it into a useful format for training and testing\n",
        "# and implement 90-10 splitting as specified in the project description.\n",
        "def preprocess(filename):\n",
        "    whole = []\n",
        "    f = open(filename, 'r')\n",
        "    for line in f:\n",
        "        line = re.sub(r'\\n$', '', line)\n",
        "        line = re.sub(r', ', ',', line)\n",
        "        line = line.strip().split(\",\")\n",
        "        whole.append(line)\n",
        "    whole = np.array(whole)\n",
        "    f.close()\n",
        "    \n",
        "    # Extract attribute values and class labels, and split dataset into training and test sets\n",
        "    n_instance = whole.shape[0] - 1\n",
        "    breakpoint = 0.9 * n_instance + 1\n",
        "    breakpoint = int(breakpoint)\n",
        "    \n",
        "    attributes = list(whole[0, :-1])\n",
        "    X_train = whole[1:breakpoint, :-1]\n",
        "    y_train = whole[1:breakpoint, -1]\n",
        "    X_test = whole[breakpoint:, :-1]\n",
        "    y_test = whole[breakpoint:, -1]\n",
        "    \n",
        "    return attributes, X_train, y_train, X_test, y_test, whole"
      ],
      "metadata": {
        "id": "h7msRso2hV3p"
      },
      "execution_count": 3,
      "outputs": []
    },
    {
      "cell_type": "code",
      "source": [
        "# For each nominal attribute, record the frequency of each value, then calculate their conditional probabilities\n",
        "def nominal_conditional_prob(index_list, X_train, attribute_num, prior):\n",
        "    freq = defaultdict(int)\n",
        "    \n",
        "    for ind in index_list:\n",
        "        freq[X_train[ind,attribute_num]] += 1\n",
        "    cond_prob = {key: (freq[key] / X_train.shape[0]) / prior for key in freq}\n",
        "    \n",
        "    return cond_prob"
      ],
      "metadata": {
        "id": "aG42BO5Jh4zV"
      },
      "execution_count": 4,
      "outputs": []
    },
    {
      "cell_type": "code",
      "source": [
        "# Calculate the mean of a vector of values of a numeric attribute\n",
        "def mean(values):\n",
        "    return sum(values) / float(len(values))\n",
        "\n",
        "# Calculate the standard deviation of a vector of values of a numeric attribute\n",
        "def sd(values):\n",
        "    avg = mean(values)\n",
        "    variance = sum([pow(x - avg, 2) for x in values]) / float(len(values) - 1)\n",
        "    return sqrt(variance)\n",
        "\n",
        "# Calculate probabilty using Gaussian distribution's probability density function\n",
        "def gaussian(x, mean, sd):\n",
        "    exponent = exp(-((x-mean)**2 / (2 * sd**2)))\n",
        "    return (1 / (sqrt(2 * pi) * sd)) * exponent"
      ],
      "metadata": {
        "id": "ZzLDrQroh9IJ"
      },
      "execution_count": 5,
      "outputs": []
    },
    {
      "cell_type": "code",
      "source": [
        "# This function should calculate prior probabilities and likelihoods (conditional probabilities) from the training data and using\n",
        "# to build a naive Bayes model\n",
        "\n",
        "def train(attributes, X_train, y_train):\n",
        "   # Calculate prior probabilities of each class label\n",
        "    label_dict = defaultdict(int)\n",
        "    for label in y_train:\n",
        "        label_dict[label] += 1\n",
        "    prior_dict = {}\n",
        "    for label in ['<=50K', '>50K']:\n",
        "        prior_dict[label] = label_dict[label] / len(y_train)\n",
        "    \n",
        "    # Record the indexes of instances according to the class label\n",
        "    pos_index = []\n",
        "    neg_index = []\n",
        "    for i in range(y_train.size):\n",
        "        if y_train[i] == '<=50K': \n",
        "            pos_index.append(i)\n",
        "        else:\n",
        "            neg_index.append(i)\n",
        "\n",
        "    # Calculate conditional probabilities of nominal attributes\n",
        "    nom_conditional_pos = dict()\n",
        "    nom_conditional_neg = dict()\n",
        "    for attr in ['work class', 'education', 'marital status', 'occupation', 'relationship', 'race', 'sex', 'native country (region)']:\n",
        "        attr_index = attributes.index(attr)\n",
        "        nom_conditional_pos[attr] = nominal_conditional_prob(pos_index, X_train, attr_index, prior_dict['<=50K'])\n",
        "        nom_conditional_neg[attr] = nominal_conditional_prob(neg_index, X_train, attr_index, prior_dict['>50K'])\n",
        "    \n",
        "    # Calculate conditional probabilities of numeric attributes\n",
        "    num_conditional_pos = dict()\n",
        "    num_conditional_neg = dict()\n",
        "    for attr in ['age', 'education num', 'hours per week']:\n",
        "        pos = []\n",
        "        neg = []\n",
        "        attr_index = attributes.index(attr)\n",
        "        # For each numeric attribute, separate instances according to the class label\n",
        "        for ind in pos_index:\n",
        "            pos.append(X_train[ind, attr_index])\n",
        "        for ind in neg_index:\n",
        "            neg.append(X_train[ind, attr_index])\n",
        "        \n",
        "        pos = [float(x) for x in pos]\n",
        "        neg = [float(x) for x in neg]\n",
        "        \n",
        "        # Record the distribution of each numeric attribute given class label\n",
        "        num_conditional_pos[attr] = (mean(pos), sd(pos))\n",
        "        num_conditional_neg[attr] = (mean(neg), sd(neg))\n",
        "    \n",
        "    \n",
        "    return prior_dict, nom_conditional_pos, nom_conditional_neg, num_conditional_pos, num_conditional_neg, pos_index, neg_index"
      ],
      "metadata": {
        "id": "Fa52zXRThyAd"
      },
      "execution_count": 6,
      "outputs": []
    },
    {
      "cell_type": "code",
      "source": [
        "def calculate_posterior(attributes, prior, nom_conditional, num_conditional, instance):\n",
        "    log_posterior = 0.0\n",
        "    counter = 0\n",
        "    for feature in instance:\n",
        "        \n",
        "        # Calculate the distribution of the attribute if it is numeric\n",
        "        if attributes[counter] in ['age', 'education num', 'hours per week']:\n",
        "            try:\n",
        "                mean = num_conditional[attributes[counter]][0]\n",
        "                sd = num_conditional[attributes[counter]][1]\n",
        "                log_posterior += log(gaussian(float(feature), mean, sd)) \n",
        "            except:\n",
        "                log_posterior += float(\"-inf\")\n",
        "        \n",
        "        # For nominal attributes, sum the logarithm of conditional probabilities calculated previously\n",
        "        else:\n",
        "            try:\n",
        "                log_posterior += log(nom_conditional[attributes[counter]][feature])\n",
        "            except:\n",
        "                log_posterior += float(\"-inf\")\n",
        "        counter += 1\n",
        "    log_posterior += log(prior)\n",
        "    \n",
        "    return log_posterior"
      ],
      "metadata": {
        "id": "1BKVslf2iBf4"
      },
      "execution_count": 7,
      "outputs": []
    },
    {
      "cell_type": "code",
      "source": [
        "# This function should predict classes for new items in the testing data\n",
        "def predict(attributes, prior_dict, nom_conditional_pos, nom_conditional_neg, num_conditional_pos, num_conditional_neg, X_test):\n",
        "    predicted = []\n",
        "    pos_logprob = []\n",
        "    neg_logprob = []\n",
        "    \n",
        "    # For each instance in the test set, calculate the logarithm of its posterior probability\n",
        "    for ins in X_test:\n",
        "        log_posterior = (calculate_posterior(attributes, prior_dict['<=50K'], nom_conditional_pos, num_conditional_pos, ins),\n",
        "                        calculate_posterior(attributes, prior_dict['>50K'], nom_conditional_neg, num_conditional_neg, ins))\n",
        "        \n",
        "        # Predict class label based on the maximum of logarithm of posterior probabilities\n",
        "        pos_logprob.append(log_posterior[0])\n",
        "        neg_logprob.append(log_posterior[1])\n",
        "        maximum = np.argmax(log_posterior)\n",
        "        if maximum == 0:\n",
        "            predicted.append('<=50K')\n",
        "        else:\n",
        "            predicted.append('>50K')\n",
        "    \n",
        "    return predicted, pos_logprob, neg_logprob"
      ],
      "metadata": {
        "id": "y2IuHP32iD4L"
      },
      "execution_count": 8,
      "outputs": []
    },
    {
      "cell_type": "code",
      "source": [
        "# This function should evaliate the prediction performance by comparing your model’s class outputs to ground\n",
        "# truth labels, return and output accuracy, confusion matrix and F1 score.\n",
        "\n",
        "def evaluate(predicted, y_test):\n",
        "    tp = 0\n",
        "    tn = 0\n",
        "    fp = 0\n",
        "    fn = 0\n",
        "    \n",
        "    # Generate the confusion matrix\n",
        "    for i in range(len(y_test)):\n",
        "        if predicted[i] == '<=50K':\n",
        "            if predicted[i] == y_test[i]:\n",
        "                tp += 1\n",
        "            else:\n",
        "                fp += 1\n",
        "        elif predicted[i] == '>50K':\n",
        "            if predicted[i] == y_test[i]:\n",
        "                tn += 1\n",
        "            else:\n",
        "                fn += 1\n",
        "    \n",
        "    accuracy = (tp + tn) / (tp + tn + fp + fn)\n",
        "    confusion_matrix = np.array([[tp,fn],[fp,tn]], dtype=int)\n",
        "\n",
        "    # Calculate the f-score\n",
        "    precision = tp / (tp+fp)\n",
        "    recall = tp / (tp+fn)\n",
        "    fscore = 2 * precision * recall / (precision+recall)\n",
        "    \n",
        "    print(confusion_matrix)\n",
        "    print(\"Accuracy: \", accuracy)\n",
        "    print(\"F-score: \", fscore)\n",
        "    return accuracy, confusion_matrix, fscore"
      ],
      "metadata": {
        "id": "QcNi6WqfiGTO"
      },
      "execution_count": 9,
      "outputs": []
    },
    {
      "cell_type": "code",
      "source": [
        "# This cell should act as your \"main\" function where you call the above functions \n",
        "# on the full ADULT data set, and print the evaluation score. \n",
        "\n",
        "\n",
        "# First, read in the data and apply your NB model to the OBJECTIVITY data\n",
        "\n",
        "filename = 'adult.csv' # load filepath here\n",
        "attributes, X_train, y_train, X_test, y_test, whole = preprocess(filename)\n",
        "prior_dict, nom_conditional_pos, nom_conditional_neg, num_conditional_pos, num_conditional_neg, pos_index, neg_index = train(attributes, X_train, y_train)\n",
        "predicted, pos_logprob, neg_logprob = predict(attributes, prior_dict, nom_conditional_pos, nom_conditional_neg, num_conditional_pos, num_conditional_neg, X_test)\n",
        "\n",
        "\n",
        "# Second, print the full evaluation results from the evaluate() function\n",
        "\n",
        "accuracy, confusion_matrix, fscore = evaluate(predicted, y_test)\n",
        "\n",
        "\n",
        "# Third, print data statistics and model predictions, as instructed below \n",
        "# N is the total number of instances, F the total number of attributes, L the total number of labels\n",
        "# The \"class probabilities\" may be unnormalized\n",
        "# The \"predicted class ID\" must be in range (0, L)\n",
        "\n",
        "print(\"Attribute vectors of instances [0, 1, 2]: \", X_train[:3,])\n",
        "\n",
        "print(\"\\nNumber of instances (N): \", whole.shape[0]-1)\n",
        "print(\"Number of attributes (F): \", len(attributes))\n",
        "print(\"Number of labels (L): \", len(set(y_train)))\n",
        "\n",
        "print(\"\\n\\nPredicted class log-probabilities for instance N-3: \", \"log P(c = '<=50K') = \", pos_logprob[-3], \"log P(c = '>50K') = \", neg_logprob[-3])\n",
        "print(\"Predicted class ID for instance N-3: \", predicted[-3])\n",
        "print(\"\\nPredicted class log-probabilities for instance N-2: \", \"log P(c = '<=50K') = \", pos_logprob[-2], \"log P(c = '>50K') = \", neg_logprob[-2])\n",
        "print(\"Predicted class ID for instance N-2: \", predicted[-2])\n",
        "print(\"\\nPredicted class log-probabilities for instance N-1: \", \"log P(c = '<=50K') = \", pos_logprob[-1], \"log P(c = '>50K') = \", neg_logprob[-1])\n",
        "print(\"Predicted class ID for instance N-1: \", predicted[-1])\n"
      ],
      "metadata": {
        "colab": {
          "base_uri": "https://localhost:8080/"
        },
        "id": "5dFuw_IriM0Y",
        "outputId": "ce04459f-3bfb-44be-ab50-72c16e6000e7"
      },
      "execution_count": 10,
      "outputs": [
        {
          "output_type": "stream",
          "name": "stdout",
          "text": [
            "[[69  8]\n",
            " [ 6 17]]\n",
            "Accuracy:  0.86\n",
            "F-score:  0.9078947368421053\n",
            "Attribute vectors of instances [0, 1, 2]:  [['68' '?' '1st-4th' '2' 'Divorced' '?' 'Not-in-family' 'White' 'Female'\n",
            "  '20' 'United-States']\n",
            " ['39' 'State-gov' 'Bachelors' '13' 'Never-married' 'Adm-clerical'\n",
            "  'Not-in-family' 'White' 'Male' '40' 'United-States']\n",
            " ['50' 'Self-emp-not-inc' 'Bachelors' '13' 'Married-civ-spouse'\n",
            "  'Exec-managerial' 'Husband' 'White' 'Male' '13' 'United-States']]\n",
            "\n",
            "Number of instances (N):  1000\n",
            "Number of attributes (F):  11\n",
            "Number of labels (L):  2\n",
            "\n",
            "\n",
            "Predicted class log-probabilities for instance N-3:  log P(c = '<=50K') =  -20.71689698193305 log P(c = '>50K') =  -19.556273652832147\n",
            "Predicted class ID for instance N-3:  >50K\n",
            "\n",
            "Predicted class log-probabilities for instance N-2:  log P(c = '<=50K') =  -25.339070637730188 log P(c = '>50K') =  -22.744589775643146\n",
            "Predicted class ID for instance N-2:  >50K\n",
            "\n",
            "Predicted class log-probabilities for instance N-1:  log P(c = '<=50K') =  -16.852794958645738 log P(c = '>50K') =  -16.716481989445867\n",
            "Predicted class ID for instance N-1:  >50K\n"
          ]
        }
      ]
    }
  ]
}